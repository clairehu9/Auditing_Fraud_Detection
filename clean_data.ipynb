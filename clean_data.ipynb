{
 "cells": [
  {
   "cell_type": "code",
   "execution_count": 5,
   "metadata": {},
   "outputs": [],
   "source": [
    "input_file = 'RawData.csv'\n",
    "\n",
    "clean_mode = 'neg_one' # neg_one # zero"
   ]
  },
  {
   "cell_type": "code",
   "execution_count": 6,
   "metadata": {},
   "outputs": [],
   "source": [
    "if clean_mode == 'zero':\n",
    "    leading = 'ZERO'\n",
    "    sign = '0'\n",
    "\n",
    "else:\n",
    "    leading = 'NEGONE'\n",
    "    sign = '-1'"
   ]
  },
  {
   "cell_type": "code",
   "execution_count": 7,
   "metadata": {},
   "outputs": [],
   "source": [
    "output_file = 'RawData' + '_' + leading + '.csv'"
   ]
  },
  {
   "cell_type": "code",
   "execution_count": 8,
   "metadata": {},
   "outputs": [
    {
     "name": "stdout",
     "output_type": "stream",
     "text": [
      "All finished!\n",
      "Cleanned dataset have been saved under current folder.\n"
     ]
    }
   ],
   "source": [
    "with open(input_file, 'r') as f, open(output_file, 'w') as writter:\n",
    "    for line in f:\n",
    "        cleanned_line = line.replace('NULL', sign)\n",
    "        writter.write(cleanned_line)\n",
    "\n",
    "print('All finished!')\n",
    "print('Cleanned dataset have been saved under current folder.')"
   ]
  },
  {
   "cell_type": "code",
   "execution_count": null,
   "metadata": {},
   "outputs": [],
   "source": []
  }
 ],
 "metadata": {
  "kernelspec": {
   "display_name": "Python 3",
   "language": "python",
   "name": "python3"
  },
  "language_info": {
   "codemirror_mode": {
    "name": "ipython",
    "version": 3
   },
   "file_extension": ".py",
   "mimetype": "text/x-python",
   "name": "python",
   "nbconvert_exporter": "python",
   "pygments_lexer": "ipython3",
   "version": "3.7.4"
  }
 },
 "nbformat": 4,
 "nbformat_minor": 2
}
